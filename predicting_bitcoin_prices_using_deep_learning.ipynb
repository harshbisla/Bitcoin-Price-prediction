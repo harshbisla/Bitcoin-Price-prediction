{
  "nbformat": 4,
  "nbformat_minor": 0,
  "metadata": {
    "colab": {
      "provenance": [],
      "authorship_tag": "ABX9TyOjthc3qhiZ6pU/gnsWeH6r",
      "include_colab_link": true
    },
    "kernelspec": {
      "name": "python3",
      "display_name": "Python 3"
    },
    "language_info": {
      "name": "python"
    }
  },
  "cells": [
    {
      "cell_type": "markdown",
      "metadata": {
        "id": "view-in-github",
        "colab_type": "text"
      },
      "source": [
        "<a href=\"https://colab.research.google.com/github/harshbisla/Bitcoin-Price-prediction/blob/main/predicting_bitcoin_prices_using_deep_learning.ipynb\" target=\"_parent\"><img src=\"https://colab.research.google.com/assets/colab-badge.svg\" alt=\"Open In Colab\"/></a>"
      ]
    },
    {
      "cell_type": "code",
      "execution_count": 5,
      "metadata": {
        "id": "1lLYdScyRzAs"
      },
      "outputs": [],
      "source": [
        "import pandas as pd\n",
        "import numpy as np\n",
        "import matplotlib.pyplot as plt\n",
        "from sklearn.preprocessing import MinMaxScaler\n",
        "from tensorflow.keras.layers import Dense , Dropout , LSTM\n",
        "from tensorflow.keras.models import Sequential\n",
        "import requests"
      ]
    },
    {
      "cell_type": "code",
      "source": [
        "api_key = '454c916d5520413ea34eb9bdb5dc7170'\n",
        "symbol = 'BTC/USD'\n",
        "interval = '5min'\n",
        "order = 'asc'\n",
        "start_date = '2021-10-03 00:00:00'\n",
        "end_date = '2021-10-20 00:00:00'\n",
        "api_url = f'https://api.twelvedata.com/time_series?symbol={symbol}&start_date={start_date}&end_date={end_date}&interval={interval}&apikey={api_key}'"
      ],
      "metadata": {
        "id": "66GFZNZ2S-I2"
      },
      "execution_count": 4,
      "outputs": []
    },
    {
      "cell_type": "code",
      "source": [
        "data = requests.get(api_url).json()"
      ],
      "metadata": {
        "id": "Ya98_VpWUJ2p"
      },
      "execution_count": 8,
      "outputs": []
    },
    {
      "cell_type": "code",
      "source": [
        "data_final = pd.DataFrame(data['values'])"
      ],
      "metadata": {
        "id": "OCzmhHDGVSp_"
      },
      "execution_count": 10,
      "outputs": []
    },
    {
      "cell_type": "code",
      "source": [
        "data_final"
      ],
      "metadata": {
        "colab": {
          "base_uri": "https://localhost:8080/",
          "height": 424
        },
        "id": "tD3enff8Veqn",
        "outputId": "c415ed95-447e-477d-d229-31827c7436b7"
      },
      "execution_count": 11,
      "outputs": [
        {
          "output_type": "execute_result",
          "data": {
            "text/plain": [
              "                 datetime         open         high          low        close\n",
              "0     2021-10-20 00:00:00  64300.01172  64381.44922  64235.94141  64257.17188\n",
              "1     2021-10-19 23:55:00  64258.87891  64309.30859  64209.41016  64302.23047\n",
              "2     2021-10-19 23:50:00  64437.71875  64437.71875  64230.64062  64243.85156\n",
              "3     2021-10-19 23:45:00  64470.12891  64487.30859  64330.00000  64416.01172\n",
              "4     2021-10-19 23:40:00  64426.26953  64465.21875  64366.05859  64453.55859\n",
              "...                   ...          ...          ...          ...          ...\n",
              "4880  2021-10-03 00:20:00  47696.42188  47800.28906  47696.42188  47745.17188\n",
              "4881  2021-10-03 00:15:00  47729.85156  47790.03125  47671.51953  47692.07812\n",
              "4882  2021-10-03 00:10:00  47736.80859  47757.73828  47697.87891  47727.98828\n",
              "4883  2021-10-03 00:05:00  47814.57031  47832.17188  47721.78125  47744.39062\n",
              "4884  2021-10-03 00:00:00  47657.69141  47812.28125  47651.53125  47812.28125\n",
              "\n",
              "[4885 rows x 5 columns]"
            ],
            "text/html": [
              "\n",
              "  <div id=\"df-06b2ab98-ff01-4109-86d5-ef6ea01e0722\">\n",
              "    <div class=\"colab-df-container\">\n",
              "      <div>\n",
              "<style scoped>\n",
              "    .dataframe tbody tr th:only-of-type {\n",
              "        vertical-align: middle;\n",
              "    }\n",
              "\n",
              "    .dataframe tbody tr th {\n",
              "        vertical-align: top;\n",
              "    }\n",
              "\n",
              "    .dataframe thead th {\n",
              "        text-align: right;\n",
              "    }\n",
              "</style>\n",
              "<table border=\"1\" class=\"dataframe\">\n",
              "  <thead>\n",
              "    <tr style=\"text-align: right;\">\n",
              "      <th></th>\n",
              "      <th>datetime</th>\n",
              "      <th>open</th>\n",
              "      <th>high</th>\n",
              "      <th>low</th>\n",
              "      <th>close</th>\n",
              "    </tr>\n",
              "  </thead>\n",
              "  <tbody>\n",
              "    <tr>\n",
              "      <th>0</th>\n",
              "      <td>2021-10-20 00:00:00</td>\n",
              "      <td>64300.01172</td>\n",
              "      <td>64381.44922</td>\n",
              "      <td>64235.94141</td>\n",
              "      <td>64257.17188</td>\n",
              "    </tr>\n",
              "    <tr>\n",
              "      <th>1</th>\n",
              "      <td>2021-10-19 23:55:00</td>\n",
              "      <td>64258.87891</td>\n",
              "      <td>64309.30859</td>\n",
              "      <td>64209.41016</td>\n",
              "      <td>64302.23047</td>\n",
              "    </tr>\n",
              "    <tr>\n",
              "      <th>2</th>\n",
              "      <td>2021-10-19 23:50:00</td>\n",
              "      <td>64437.71875</td>\n",
              "      <td>64437.71875</td>\n",
              "      <td>64230.64062</td>\n",
              "      <td>64243.85156</td>\n",
              "    </tr>\n",
              "    <tr>\n",
              "      <th>3</th>\n",
              "      <td>2021-10-19 23:45:00</td>\n",
              "      <td>64470.12891</td>\n",
              "      <td>64487.30859</td>\n",
              "      <td>64330.00000</td>\n",
              "      <td>64416.01172</td>\n",
              "    </tr>\n",
              "    <tr>\n",
              "      <th>4</th>\n",
              "      <td>2021-10-19 23:40:00</td>\n",
              "      <td>64426.26953</td>\n",
              "      <td>64465.21875</td>\n",
              "      <td>64366.05859</td>\n",
              "      <td>64453.55859</td>\n",
              "    </tr>\n",
              "    <tr>\n",
              "      <th>...</th>\n",
              "      <td>...</td>\n",
              "      <td>...</td>\n",
              "      <td>...</td>\n",
              "      <td>...</td>\n",
              "      <td>...</td>\n",
              "    </tr>\n",
              "    <tr>\n",
              "      <th>4880</th>\n",
              "      <td>2021-10-03 00:20:00</td>\n",
              "      <td>47696.42188</td>\n",
              "      <td>47800.28906</td>\n",
              "      <td>47696.42188</td>\n",
              "      <td>47745.17188</td>\n",
              "    </tr>\n",
              "    <tr>\n",
              "      <th>4881</th>\n",
              "      <td>2021-10-03 00:15:00</td>\n",
              "      <td>47729.85156</td>\n",
              "      <td>47790.03125</td>\n",
              "      <td>47671.51953</td>\n",
              "      <td>47692.07812</td>\n",
              "    </tr>\n",
              "    <tr>\n",
              "      <th>4882</th>\n",
              "      <td>2021-10-03 00:10:00</td>\n",
              "      <td>47736.80859</td>\n",
              "      <td>47757.73828</td>\n",
              "      <td>47697.87891</td>\n",
              "      <td>47727.98828</td>\n",
              "    </tr>\n",
              "    <tr>\n",
              "      <th>4883</th>\n",
              "      <td>2021-10-03 00:05:00</td>\n",
              "      <td>47814.57031</td>\n",
              "      <td>47832.17188</td>\n",
              "      <td>47721.78125</td>\n",
              "      <td>47744.39062</td>\n",
              "    </tr>\n",
              "    <tr>\n",
              "      <th>4884</th>\n",
              "      <td>2021-10-03 00:00:00</td>\n",
              "      <td>47657.69141</td>\n",
              "      <td>47812.28125</td>\n",
              "      <td>47651.53125</td>\n",
              "      <td>47812.28125</td>\n",
              "    </tr>\n",
              "  </tbody>\n",
              "</table>\n",
              "<p>4885 rows × 5 columns</p>\n",
              "</div>\n",
              "      <button class=\"colab-df-convert\" onclick=\"convertToInteractive('df-06b2ab98-ff01-4109-86d5-ef6ea01e0722')\"\n",
              "              title=\"Convert this dataframe to an interactive table.\"\n",
              "              style=\"display:none;\">\n",
              "        \n",
              "  <svg xmlns=\"http://www.w3.org/2000/svg\" height=\"24px\"viewBox=\"0 0 24 24\"\n",
              "       width=\"24px\">\n",
              "    <path d=\"M0 0h24v24H0V0z\" fill=\"none\"/>\n",
              "    <path d=\"M18.56 5.44l.94 2.06.94-2.06 2.06-.94-2.06-.94-.94-2.06-.94 2.06-2.06.94zm-11 1L8.5 8.5l.94-2.06 2.06-.94-2.06-.94L8.5 2.5l-.94 2.06-2.06.94zm10 10l.94 2.06.94-2.06 2.06-.94-2.06-.94-.94-2.06-.94 2.06-2.06.94z\"/><path d=\"M17.41 7.96l-1.37-1.37c-.4-.4-.92-.59-1.43-.59-.52 0-1.04.2-1.43.59L10.3 9.45l-7.72 7.72c-.78.78-.78 2.05 0 2.83L4 21.41c.39.39.9.59 1.41.59.51 0 1.02-.2 1.41-.59l7.78-7.78 2.81-2.81c.8-.78.8-2.07 0-2.86zM5.41 20L4 18.59l7.72-7.72 1.47 1.35L5.41 20z\"/>\n",
              "  </svg>\n",
              "      </button>\n",
              "      \n",
              "  <style>\n",
              "    .colab-df-container {\n",
              "      display:flex;\n",
              "      flex-wrap:wrap;\n",
              "      gap: 12px;\n",
              "    }\n",
              "\n",
              "    .colab-df-convert {\n",
              "      background-color: #E8F0FE;\n",
              "      border: none;\n",
              "      border-radius: 50%;\n",
              "      cursor: pointer;\n",
              "      display: none;\n",
              "      fill: #1967D2;\n",
              "      height: 32px;\n",
              "      padding: 0 0 0 0;\n",
              "      width: 32px;\n",
              "    }\n",
              "\n",
              "    .colab-df-convert:hover {\n",
              "      background-color: #E2EBFA;\n",
              "      box-shadow: 0px 1px 2px rgba(60, 64, 67, 0.3), 0px 1px 3px 1px rgba(60, 64, 67, 0.15);\n",
              "      fill: #174EA6;\n",
              "    }\n",
              "\n",
              "    [theme=dark] .colab-df-convert {\n",
              "      background-color: #3B4455;\n",
              "      fill: #D2E3FC;\n",
              "    }\n",
              "\n",
              "    [theme=dark] .colab-df-convert:hover {\n",
              "      background-color: #434B5C;\n",
              "      box-shadow: 0px 1px 3px 1px rgba(0, 0, 0, 0.15);\n",
              "      filter: drop-shadow(0px 1px 2px rgba(0, 0, 0, 0.3));\n",
              "      fill: #FFFFFF;\n",
              "    }\n",
              "  </style>\n",
              "\n",
              "      <script>\n",
              "        const buttonEl =\n",
              "          document.querySelector('#df-06b2ab98-ff01-4109-86d5-ef6ea01e0722 button.colab-df-convert');\n",
              "        buttonEl.style.display =\n",
              "          google.colab.kernel.accessAllowed ? 'block' : 'none';\n",
              "\n",
              "        async function convertToInteractive(key) {\n",
              "          const element = document.querySelector('#df-06b2ab98-ff01-4109-86d5-ef6ea01e0722');\n",
              "          const dataTable =\n",
              "            await google.colab.kernel.invokeFunction('convertToInteractive',\n",
              "                                                     [key], {});\n",
              "          if (!dataTable) return;\n",
              "\n",
              "          const docLinkHtml = 'Like what you see? Visit the ' +\n",
              "            '<a target=\"_blank\" href=https://colab.research.google.com/notebooks/data_table.ipynb>data table notebook</a>'\n",
              "            + ' to learn more about interactive tables.';\n",
              "          element.innerHTML = '';\n",
              "          dataTable['output_type'] = 'display_data';\n",
              "          await google.colab.output.renderOutput(dataTable, element);\n",
              "          const docLink = document.createElement('div');\n",
              "          docLink.innerHTML = docLinkHtml;\n",
              "          element.appendChild(docLink);\n",
              "        }\n",
              "      </script>\n",
              "    </div>\n",
              "  </div>\n",
              "  "
            ]
          },
          "metadata": {},
          "execution_count": 11
        }
      ]
    },
    {
      "cell_type": "markdown",
      "source": [
        "Squeezing data in range of 0 and 1"
      ],
      "metadata": {
        "id": "r6J-FoGHWPfX"
      }
    },
    {
      "cell_type": "code",
      "source": [
        "scaler = MinMaxScaler(feature_range = (0,1))\n",
        "scaled_data = scaler.fit_transform(data_final['close'].values.reshape(-1,1))"
      ],
      "metadata": {
        "id": "XE6-CImtVywx"
      },
      "execution_count": 12,
      "outputs": []
    },
    {
      "cell_type": "code",
      "source": [
        "time_interval_to_train = 24\n",
        "prediction_interval = 12\n",
        "xtrain = []\n",
        "ytrain = []"
      ],
      "metadata": {
        "id": "WNd6pJr0WptJ"
      },
      "execution_count": 14,
      "outputs": []
    },
    {
      "cell_type": "code",
      "source": [
        "for i in range(time_interval_to_train,len(scaled_data)- prediction_interval) :\n",
        "  xtrain.append(scaled_data[i - time_interval_to_train:i,0])\n",
        "  ytrain.append(scaled_data[i + prediction_interval,0]) "
      ],
      "metadata": {
        "id": "ro1HYgvXXAqQ"
      },
      "execution_count": 15,
      "outputs": []
    },
    {
      "cell_type": "code",
      "source": [
        "xtrain = np.array(xtrain)\n",
        "ytrain = np.array(ytrain)"
      ],
      "metadata": {
        "id": "n4WrcfkKYNGY"
      },
      "execution_count": 16,
      "outputs": []
    },
    {
      "cell_type": "code",
      "source": [
        "xtrain.shape"
      ],
      "metadata": {
        "colab": {
          "base_uri": "https://localhost:8080/"
        },
        "id": "H8_difNwYV_r",
        "outputId": "4865e56b-732f-43ad-de71-705954518428"
      },
      "execution_count": 17,
      "outputs": [
        {
          "output_type": "execute_result",
          "data": {
            "text/plain": [
              "(4849, 24)"
            ]
          },
          "metadata": {},
          "execution_count": 17
        }
      ]
    },
    {
      "cell_type": "code",
      "source": [
        "xtrain = np.reshape(xtrain , (xtrain.shape[0],xtrain.shape[1],1))"
      ],
      "metadata": {
        "id": "PbylNhHuYZ1z"
      },
      "execution_count": 18,
      "outputs": []
    },
    {
      "cell_type": "code",
      "source": [
        "model = Sequential()\n",
        "model.add(LSTM(128 , return_sequences = True , input_shape = (xtrain.shape[1],1),activation = 'relu'))\n",
        "model.add(Dropout(0.4))\n",
        "model.add(LSTM(64 , return_sequences = True,activation = 'relu'))\n",
        "model.add(Dropout(0.3))\n",
        "model.add(LSTM(32,activation = 'relu'))\n",
        "model.add(Dropout(0.2))\n",
        "model.add(Dense(1,activation = 'sigmoid'))"
      ],
      "metadata": {
        "id": "mRQ-KoK5YlzL"
      },
      "execution_count": 21,
      "outputs": []
    },
    {
      "cell_type": "code",
      "source": [
        "model.compile(loss = 'mean_squared_error', optimizer = 'adam', metrics = ['accuracy'])"
      ],
      "metadata": {
        "id": "pFaFnRN2Yr-w"
      },
      "execution_count": 22,
      "outputs": []
    },
    {
      "cell_type": "code",
      "source": [
        "model.fit(xtrain,ytrain,epochs = 10,batch_size = 64)"
      ],
      "metadata": {
        "colab": {
          "base_uri": "https://localhost:8080/"
        },
        "id": "7eJOxf1AaXBX",
        "outputId": "5cf5ec1c-94b3-4847-aa8d-06c51e015708"
      },
      "execution_count": 23,
      "outputs": [
        {
          "output_type": "stream",
          "name": "stdout",
          "text": [
            "Epoch 1/10\n",
            "76/76 [==============================] - 12s 95ms/step - loss: 0.0232 - accuracy: 2.0623e-04\n",
            "Epoch 2/10\n",
            "76/76 [==============================] - 7s 93ms/step - loss: 0.0020 - accuracy: 2.0623e-04\n",
            "Epoch 3/10\n",
            "76/76 [==============================] - 7s 94ms/step - loss: 0.0019 - accuracy: 2.0623e-04\n",
            "Epoch 4/10\n",
            "76/76 [==============================] - 7s 91ms/step - loss: 0.0018 - accuracy: 2.0623e-04\n",
            "Epoch 5/10\n",
            "76/76 [==============================] - 8s 100ms/step - loss: 0.0016 - accuracy: 2.0623e-04\n",
            "Epoch 6/10\n",
            "76/76 [==============================] - 10s 132ms/step - loss: 0.0016 - accuracy: 2.0623e-04\n",
            "Epoch 7/10\n",
            "76/76 [==============================] - 8s 105ms/step - loss: 0.0017 - accuracy: 2.0623e-04\n",
            "Epoch 8/10\n",
            "76/76 [==============================] - 7s 93ms/step - loss: 0.0015 - accuracy: 2.0623e-04\n",
            "Epoch 9/10\n",
            "76/76 [==============================] - 7s 93ms/step - loss: 0.0015 - accuracy: 2.0623e-04\n",
            "Epoch 10/10\n",
            "76/76 [==============================] - 7s 93ms/step - loss: 0.0015 - accuracy: 2.0623e-04\n"
          ]
        },
        {
          "output_type": "execute_result",
          "data": {
            "text/plain": [
              "<keras.callbacks.History at 0x7f764c00ce80>"
            ]
          },
          "metadata": {},
          "execution_count": 23
        }
      ]
    },
    {
      "cell_type": "code",
      "source": [
        "start_test = '2021-10-20 00:00:00'\n",
        "end_test = '2021-10-23 00:00:00'\n",
        "test_api_url = f'https://api.twelvedata.com/time_series?symbol={symbol}&start_date={start_test}&end_date={end_test}&interval={interval}&apikey={api_key}'\n",
        "test_data = requests.get(test_api_url).json()\n",
        "test_data_final = pd.DataFrame(test_data['values'])\n",
        "test_data_final"
      ],
      "metadata": {
        "colab": {
          "base_uri": "https://localhost:8080/",
          "height": 424
        },
        "id": "aTLN9vV1ag5I",
        "outputId": "96349287-d98c-4ae8-d5ee-6f21b49430c4"
      },
      "execution_count": 25,
      "outputs": [
        {
          "output_type": "execute_result",
          "data": {
            "text/plain": [
              "                datetime         open         high          low        close\n",
              "0    2021-10-23 00:00:00  60687.64062  60761.42969  60561.12109  60576.00000\n",
              "1    2021-10-22 23:55:00  60717.87891  60720.78906  60680.14062  60696.71875\n",
              "2    2021-10-22 23:50:00  60720.01172  60729.32031  60690.42969  60710.87891\n",
              "3    2021-10-22 23:45:00  60754.98828  60796.92188  60720.00000  60720.50000\n",
              "4    2021-10-22 23:40:00  60831.53906  60843.91016  60750.00000  60754.03906\n",
              "..                   ...          ...          ...          ...          ...\n",
              "850  2021-10-20 00:20:00  64137.69922  64166.08984  64083.42188  64083.42188\n",
              "851  2021-10-20 00:15:00  64185.44922  64232.28906  64119.21875  64137.94141\n",
              "852  2021-10-20 00:10:00  64133.71875  64207.78125  64133.71875  64177.23047\n",
              "853  2021-10-20 00:05:00  64255.21875  64265.83984  64099.76953  64134.44922\n",
              "854  2021-10-20 00:00:00  64300.01172  64381.44922  64235.94141  64257.17188\n",
              "\n",
              "[855 rows x 5 columns]"
            ],
            "text/html": [
              "\n",
              "  <div id=\"df-1a98c5f1-43f6-4f4b-812c-49bdbeabbc35\">\n",
              "    <div class=\"colab-df-container\">\n",
              "      <div>\n",
              "<style scoped>\n",
              "    .dataframe tbody tr th:only-of-type {\n",
              "        vertical-align: middle;\n",
              "    }\n",
              "\n",
              "    .dataframe tbody tr th {\n",
              "        vertical-align: top;\n",
              "    }\n",
              "\n",
              "    .dataframe thead th {\n",
              "        text-align: right;\n",
              "    }\n",
              "</style>\n",
              "<table border=\"1\" class=\"dataframe\">\n",
              "  <thead>\n",
              "    <tr style=\"text-align: right;\">\n",
              "      <th></th>\n",
              "      <th>datetime</th>\n",
              "      <th>open</th>\n",
              "      <th>high</th>\n",
              "      <th>low</th>\n",
              "      <th>close</th>\n",
              "    </tr>\n",
              "  </thead>\n",
              "  <tbody>\n",
              "    <tr>\n",
              "      <th>0</th>\n",
              "      <td>2021-10-23 00:00:00</td>\n",
              "      <td>60687.64062</td>\n",
              "      <td>60761.42969</td>\n",
              "      <td>60561.12109</td>\n",
              "      <td>60576.00000</td>\n",
              "    </tr>\n",
              "    <tr>\n",
              "      <th>1</th>\n",
              "      <td>2021-10-22 23:55:00</td>\n",
              "      <td>60717.87891</td>\n",
              "      <td>60720.78906</td>\n",
              "      <td>60680.14062</td>\n",
              "      <td>60696.71875</td>\n",
              "    </tr>\n",
              "    <tr>\n",
              "      <th>2</th>\n",
              "      <td>2021-10-22 23:50:00</td>\n",
              "      <td>60720.01172</td>\n",
              "      <td>60729.32031</td>\n",
              "      <td>60690.42969</td>\n",
              "      <td>60710.87891</td>\n",
              "    </tr>\n",
              "    <tr>\n",
              "      <th>3</th>\n",
              "      <td>2021-10-22 23:45:00</td>\n",
              "      <td>60754.98828</td>\n",
              "      <td>60796.92188</td>\n",
              "      <td>60720.00000</td>\n",
              "      <td>60720.50000</td>\n",
              "    </tr>\n",
              "    <tr>\n",
              "      <th>4</th>\n",
              "      <td>2021-10-22 23:40:00</td>\n",
              "      <td>60831.53906</td>\n",
              "      <td>60843.91016</td>\n",
              "      <td>60750.00000</td>\n",
              "      <td>60754.03906</td>\n",
              "    </tr>\n",
              "    <tr>\n",
              "      <th>...</th>\n",
              "      <td>...</td>\n",
              "      <td>...</td>\n",
              "      <td>...</td>\n",
              "      <td>...</td>\n",
              "      <td>...</td>\n",
              "    </tr>\n",
              "    <tr>\n",
              "      <th>850</th>\n",
              "      <td>2021-10-20 00:20:00</td>\n",
              "      <td>64137.69922</td>\n",
              "      <td>64166.08984</td>\n",
              "      <td>64083.42188</td>\n",
              "      <td>64083.42188</td>\n",
              "    </tr>\n",
              "    <tr>\n",
              "      <th>851</th>\n",
              "      <td>2021-10-20 00:15:00</td>\n",
              "      <td>64185.44922</td>\n",
              "      <td>64232.28906</td>\n",
              "      <td>64119.21875</td>\n",
              "      <td>64137.94141</td>\n",
              "    </tr>\n",
              "    <tr>\n",
              "      <th>852</th>\n",
              "      <td>2021-10-20 00:10:00</td>\n",
              "      <td>64133.71875</td>\n",
              "      <td>64207.78125</td>\n",
              "      <td>64133.71875</td>\n",
              "      <td>64177.23047</td>\n",
              "    </tr>\n",
              "    <tr>\n",
              "      <th>853</th>\n",
              "      <td>2021-10-20 00:05:00</td>\n",
              "      <td>64255.21875</td>\n",
              "      <td>64265.83984</td>\n",
              "      <td>64099.76953</td>\n",
              "      <td>64134.44922</td>\n",
              "    </tr>\n",
              "    <tr>\n",
              "      <th>854</th>\n",
              "      <td>2021-10-20 00:00:00</td>\n",
              "      <td>64300.01172</td>\n",
              "      <td>64381.44922</td>\n",
              "      <td>64235.94141</td>\n",
              "      <td>64257.17188</td>\n",
              "    </tr>\n",
              "  </tbody>\n",
              "</table>\n",
              "<p>855 rows × 5 columns</p>\n",
              "</div>\n",
              "      <button class=\"colab-df-convert\" onclick=\"convertToInteractive('df-1a98c5f1-43f6-4f4b-812c-49bdbeabbc35')\"\n",
              "              title=\"Convert this dataframe to an interactive table.\"\n",
              "              style=\"display:none;\">\n",
              "        \n",
              "  <svg xmlns=\"http://www.w3.org/2000/svg\" height=\"24px\"viewBox=\"0 0 24 24\"\n",
              "       width=\"24px\">\n",
              "    <path d=\"M0 0h24v24H0V0z\" fill=\"none\"/>\n",
              "    <path d=\"M18.56 5.44l.94 2.06.94-2.06 2.06-.94-2.06-.94-.94-2.06-.94 2.06-2.06.94zm-11 1L8.5 8.5l.94-2.06 2.06-.94-2.06-.94L8.5 2.5l-.94 2.06-2.06.94zm10 10l.94 2.06.94-2.06 2.06-.94-2.06-.94-.94-2.06-.94 2.06-2.06.94z\"/><path d=\"M17.41 7.96l-1.37-1.37c-.4-.4-.92-.59-1.43-.59-.52 0-1.04.2-1.43.59L10.3 9.45l-7.72 7.72c-.78.78-.78 2.05 0 2.83L4 21.41c.39.39.9.59 1.41.59.51 0 1.02-.2 1.41-.59l7.78-7.78 2.81-2.81c.8-.78.8-2.07 0-2.86zM5.41 20L4 18.59l7.72-7.72 1.47 1.35L5.41 20z\"/>\n",
              "  </svg>\n",
              "      </button>\n",
              "      \n",
              "  <style>\n",
              "    .colab-df-container {\n",
              "      display:flex;\n",
              "      flex-wrap:wrap;\n",
              "      gap: 12px;\n",
              "    }\n",
              "\n",
              "    .colab-df-convert {\n",
              "      background-color: #E8F0FE;\n",
              "      border: none;\n",
              "      border-radius: 50%;\n",
              "      cursor: pointer;\n",
              "      display: none;\n",
              "      fill: #1967D2;\n",
              "      height: 32px;\n",
              "      padding: 0 0 0 0;\n",
              "      width: 32px;\n",
              "    }\n",
              "\n",
              "    .colab-df-convert:hover {\n",
              "      background-color: #E2EBFA;\n",
              "      box-shadow: 0px 1px 2px rgba(60, 64, 67, 0.3), 0px 1px 3px 1px rgba(60, 64, 67, 0.15);\n",
              "      fill: #174EA6;\n",
              "    }\n",
              "\n",
              "    [theme=dark] .colab-df-convert {\n",
              "      background-color: #3B4455;\n",
              "      fill: #D2E3FC;\n",
              "    }\n",
              "\n",
              "    [theme=dark] .colab-df-convert:hover {\n",
              "      background-color: #434B5C;\n",
              "      box-shadow: 0px 1px 3px 1px rgba(0, 0, 0, 0.15);\n",
              "      filter: drop-shadow(0px 1px 2px rgba(0, 0, 0, 0.3));\n",
              "      fill: #FFFFFF;\n",
              "    }\n",
              "  </style>\n",
              "\n",
              "      <script>\n",
              "        const buttonEl =\n",
              "          document.querySelector('#df-1a98c5f1-43f6-4f4b-812c-49bdbeabbc35 button.colab-df-convert');\n",
              "        buttonEl.style.display =\n",
              "          google.colab.kernel.accessAllowed ? 'block' : 'none';\n",
              "\n",
              "        async function convertToInteractive(key) {\n",
              "          const element = document.querySelector('#df-1a98c5f1-43f6-4f4b-812c-49bdbeabbc35');\n",
              "          const dataTable =\n",
              "            await google.colab.kernel.invokeFunction('convertToInteractive',\n",
              "                                                     [key], {});\n",
              "          if (!dataTable) return;\n",
              "\n",
              "          const docLinkHtml = 'Like what you see? Visit the ' +\n",
              "            '<a target=\"_blank\" href=https://colab.research.google.com/notebooks/data_table.ipynb>data table notebook</a>'\n",
              "            + ' to learn more about interactive tables.';\n",
              "          element.innerHTML = '';\n",
              "          dataTable['output_type'] = 'display_data';\n",
              "          await google.colab.output.renderOutput(dataTable, element);\n",
              "          const docLink = document.createElement('div');\n",
              "          docLink.innerHTML = docLinkHtml;\n",
              "          element.appendChild(docLink);\n",
              "        }\n",
              "      </script>\n",
              "    </div>\n",
              "  </div>\n",
              "  "
            ]
          },
          "metadata": {},
          "execution_count": 25
        }
      ]
    },
    {
      "cell_type": "code",
      "source": [
        "bitcoin_prices = pd.to_numeric(test_data_final['close'],errors = 'coerce').values\n",
        "test_inputs = test_data_final['close'].values\n",
        "test_inputs =  test_inputs.reshape(-1,1)"
      ],
      "metadata": {
        "id": "1-6Xr3wvb1Nj"
      },
      "execution_count": 28,
      "outputs": []
    },
    {
      "cell_type": "code",
      "source": [
        "model_inputs = scaler.fit_transform(test_inputs)"
      ],
      "metadata": {
        "id": "G9sqVjXccow6"
      },
      "execution_count": 29,
      "outputs": []
    },
    {
      "cell_type": "code",
      "source": [
        "xtest = []\n",
        "for x in range(time_interval_to_train,len(model_inputs)):\n",
        "  xtest.append(model_inputs[x-time_interval_to_train:x , 0])\n",
        "\n",
        "xtest = np.asarray(xtest)\n",
        "xtest = np.reshape(xtest,(xtest.shape[0],xtest.shape[1],1))"
      ],
      "metadata": {
        "id": "5-J6Ieopcr0x"
      },
      "execution_count": 32,
      "outputs": []
    },
    {
      "cell_type": "code",
      "source": [
        "prediction_prices = model.predict(xtest)\n",
        "prediction_prices = scaler.inverse_transform(prediction_prices)"
      ],
      "metadata": {
        "colab": {
          "base_uri": "https://localhost:8080/"
        },
        "id": "i-fYmAlrdnx9",
        "outputId": "20e82e18-9ded-476a-a161-6c98521250c9"
      },
      "execution_count": 34,
      "outputs": [
        {
          "output_type": "stream",
          "name": "stdout",
          "text": [
            "26/26 [==============================] - 1s 21ms/step\n"
          ]
        }
      ]
    },
    {
      "cell_type": "code",
      "source": [
        "plt.plot(bitcoin_prices , label = 'Bitcoin Prices')\n",
        "plt.plot(prediction_prices , label = 'Predicted Prices' )\n",
        "plt.title('Predictiong Bitcoin Prices')\n",
        "plt.xlabel('5min time interval')\n",
        "plt.ylabel('Prices')\n",
        "plt.legend()"
      ],
      "metadata": {
        "colab": {
          "base_uri": "https://localhost:8080/",
          "height": 313
        },
        "id": "Tc_-AJvpeQv7",
        "outputId": "6ee993a2-a30e-42a7-b9a5-224e8ae6158d"
      },
      "execution_count": 38,
      "outputs": [
        {
          "output_type": "execute_result",
          "data": {
            "text/plain": [
              "<matplotlib.legend.Legend at 0x7f764782b8b0>"
            ]
          },
          "metadata": {},
          "execution_count": 38
        },
        {
          "output_type": "display_data",
          "data": {
            "text/plain": [
              "<Figure size 432x288 with 1 Axes>"
            ],
            "image/png": "[encoded data removed]"
          },
          "metadata": {
            "needs_background": "light"
          }
        }
      ]
    },
    {
      "cell_type": "code",
      "source": [
        "last_data = model_inputs[len(model_inputs)+1 - time_interval_to_train : len(model_inputs) + 1 , 0]\n",
        "last_data = np.array(last_data)"
      ],
      "metadata": {
        "id": "w4JwDEQ8eehs"
      },
      "execution_count": 39,
      "outputs": []
    },
    {
      "cell_type": "code",
      "source": [
        "last_data = np.reshape(last_data ,(1,last_data.shape[0],1))"
      ],
      "metadata": {
        "id": "0XL0DuXbgVIY"
      },
      "execution_count": 40,
      "outputs": []
    },
    {
      "cell_type": "code",
      "source": [
        "prediction = model.predict(last_data)\n",
        "prediction = scaler.inverse_transform(prediction)"
      ],
      "metadata": {
        "colab": {
          "base_uri": "https://localhost:8080/"
        },
        "id": "7F6D-4fTgiTg",
        "outputId": "b47f644f-7973-4a4f-ba45-f00555397342"
      },
      "execution_count": 41,
      "outputs": [
        {
          "output_type": "stream",
          "name": "stdout",
          "text": [
            "1/1 [==============================] - 1s 705ms/step\n"
          ]
        }
      ]
    },
    {
      "cell_type": "code",
      "source": [
        "prediction"
      ],
      "metadata": {
        "colab": {
          "base_uri": "https://localhost:8080/"
        },
        "id": "eyQczGQ-gzKg",
        "outputId": "7af86bdb-56c4-4301-a081-1bd53d3bf94e"
      },
      "execution_count": 42,
      "outputs": [
        {
          "output_type": "execute_result",
          "data": {
            "text/plain": [
              "array([[63990.582]], dtype=float32)"
            ]
          },
          "metadata": {},
          "execution_count": 42
        }
      ]
    },
    {
      "cell_type": "code",
      "source": [],
      "metadata": {
        "id": "gdmUnzAagzx4"
      },
      "execution_count": null,
      "outputs": []
    }
  ]
}